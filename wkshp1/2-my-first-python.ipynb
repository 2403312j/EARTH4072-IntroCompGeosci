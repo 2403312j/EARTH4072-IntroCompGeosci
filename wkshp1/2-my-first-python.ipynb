{
 "cells": [
  {
   "cell_type": "markdown",
   "metadata": {},
   "source": [
    "# 1. Mathematical Operations\n",
    "\n",
    "`Python` works like a calculator allowing you to use a range of mathematical operations by typing them as a line of code. Step through this notebook by completing the code cells as instructed before using `shift+enter` to execute the code and move to the next cell.\n",
    "\n",
    "## Addition\n",
    "Python does addition of two numbers using the operator `+`:"
   ]
  },
  {
   "cell_type": "code",
   "execution_count": null,
   "metadata": {},
   "outputs": [],
   "source": [
    "1 + 2"
   ]
  },
  {
   "cell_type": "markdown",
   "metadata": {},
   "source": [
    "## Subtraction\n",
    "Complete the following code cell by typing the subtraction \"three minus two\" using the operator `-`."
   ]
  },
  {
   "cell_type": "code",
   "execution_count": null,
   "metadata": {},
   "outputs": [],
   "source": [
    "# type a subtraction on next line\n"
   ]
  },
  {
   "cell_type": "markdown",
   "metadata": {},
   "source": [
    "## Multiplication\n",
    "Complete the following code cell by typing the multiplication \"five times three\" using the operator `*`."
   ]
  },
  {
   "cell_type": "code",
   "execution_count": null,
   "metadata": {},
   "outputs": [],
   "source": [
    "# type a multiplication on next line\n"
   ]
  },
  {
   "cell_type": "markdown",
   "metadata": {},
   "source": [
    "## Division\n",
    "Complete the following code cell by typing the division \"twenty divided by four\" using the operator `/`."
   ]
  },
  {
   "cell_type": "code",
   "execution_count": null,
   "metadata": {},
   "outputs": [],
   "source": [
    "# type a division on next line\n"
   ]
  },
  {
   "cell_type": "markdown",
   "metadata": {},
   "source": [
    "## Power\n",
    "You will recall that the power operation is a short-cut for repeated multiplication. For example, \"two to the power of three\" is `2**3 = 2*2*2`. Complete the following code cell by typing the operation \"ten to the power of six\" using the operator `**`."
   ]
  },
  {
   "cell_type": "code",
   "execution_count": null,
   "metadata": {},
   "outputs": [],
   "source": [
    "# type a power on next line\n"
   ]
  },
  {
   "cell_type": "markdown",
   "metadata": {},
   "source": [
    "## Integer and decimal numbers\n",
    "Python handles numbers according to two types: `integer` numbers are \"whole\" numbers without decimal part, whereas `float` numbers are so-called floating-point meaning they will contain a decimal point. You can convert from one type to the other by using `int()` or `float()`:"
   ]
  },
  {
   "cell_type": "code",
   "execution_count": null,
   "metadata": {},
   "outputs": [],
   "source": [
    "# this operation adds two integers\n",
    "13 + 15"
   ]
  },
  {
   "cell_type": "code",
   "execution_count": null,
   "metadata": {},
   "outputs": [],
   "source": [
    "# this operation subtracts two floats\n",
    "1.5121 - 2.0012"
   ]
  },
  {
   "cell_type": "code",
   "execution_count": null,
   "metadata": {},
   "outputs": [],
   "source": [
    "# use type() to query the type\n",
    "# enter an integer between the brackets below and execute, then try the same with a decimal number:\n",
    "type()"
   ]
  },
  {
   "cell_type": "code",
   "execution_count": null,
   "metadata": {},
   "outputs": [],
   "source": [
    "# convert float to integer: observe what happens when you execute this command\n",
    "int(2.0)"
   ]
  },
  {
   "cell_type": "code",
   "execution_count": null,
   "metadata": {},
   "outputs": [],
   "source": [
    "# convert integer to float: observe what happens when you execute this command\n",
    "float(2)"
   ]
  },
  {
   "cell_type": "markdown",
   "metadata": {},
   "source": [
    "## Floor division\n",
    "This operation divides one number by another and then rounds the result down to the nearest integer number. Floor division is done by the operator `//`. Execute the two following cells and compare the output:"
   ]
  },
  {
   "cell_type": "code",
   "execution_count": null,
   "metadata": {},
   "outputs": [],
   "source": [
    "11/5"
   ]
  },
  {
   "cell_type": "code",
   "execution_count": null,
   "metadata": {},
   "outputs": [],
   "source": [
    "11//5"
   ]
  },
  {
   "cell_type": "markdown",
   "metadata": {},
   "source": [
    "## Modulus\n",
    "The modulus operator `%` calculates the remainder of a division. In the cell below, type a command that finds the \"remainder of dividing eleven by five\" and compare the results to those of the two cells right above."
   ]
  },
  {
   "cell_type": "code",
   "execution_count": null,
   "metadata": {},
   "outputs": [],
   "source": [
    "# type a modulus operation on next line\n"
   ]
  },
  {
   "cell_type": "markdown",
   "metadata": {},
   "source": [
    "## Grouping\n",
    "For more involved mathematical operations you can use parentheses or round brackets `()` to group terms. The way terms are grouped in math will often change their meaning, therefore take great care when typing statements like the two following examples:"
   ]
  },
  {
   "cell_type": "code",
   "execution_count": null,
   "metadata": {},
   "outputs": [],
   "source": [
    "1 + (2 * 3)"
   ]
  },
  {
   "cell_type": "code",
   "execution_count": null,
   "metadata": {},
   "outputs": [],
   "source": [
    "(1 + 2) * 3"
   ]
  },
  {
   "cell_type": "markdown",
   "metadata": {},
   "source": [
    "# 2. Variables\n",
    "So far we've used Python as an alternative to a good old-fashioned calculator. But scientific programming involves much more than a few sums or division. \n",
    "\n",
    "In longer sequences of calculations we may wish to hold on to a value we set  in a calculation or found as a result. In `Python` and most similar languages we can do so by assigning values to a variable.\n",
    "\n",
    "Assigning a value to a variable name is done by the `=` operator. Bear in mind that the code is always executed line by line, assigning what is to the right of the `=` to the variable on the left.\n",
    "\n",
    "Variable names can be simple letters like `a`, `b`, `x`, or `y`, but can also be longer strings of characters that can spell out usefully descriptive names:"
   ]
  },
  {
   "cell_type": "code",
   "execution_count": null,
   "metadata": {},
   "outputs": [],
   "source": [
    "# example of defining a new variable and assigning a value to it:\n",
    "temperature = 15"
   ]
  },
  {
   "cell_type": "markdown",
   "metadata": {},
   "source": [
    "To retrieve tha value stored in the variable simply type the variable name:"
   ]
  },
  {
   "cell_type": "code",
   "execution_count": null,
   "metadata": {},
   "outputs": [],
   "source": [
    "# call the variable name to retrieve the stored value:\n",
    "temperature"
   ]
  },
  {
   "cell_type": "markdown",
   "metadata": {},
   "source": [
    "You can use the variable name in any calculation as a short-cut to using the value stored in the variable:"
   ]
  },
  {
   "cell_type": "code",
   "execution_count": null,
   "metadata": {},
   "outputs": [],
   "source": [
    "# this calculation converts the value stored in 'temperature' from Celsius to Fahrenheit:\n",
    "temperature*9/5 +32"
   ]
  },
  {
   "cell_type": "markdown",
   "metadata": {},
   "source": [
    "You can define a new variable by using mathematical operations including previously defined variables in its assignment."
   ]
  },
  {
   "cell_type": "code",
   "execution_count": null,
   "metadata": {},
   "outputs": [],
   "source": [
    "# assign the result of the temperature unit conversion from above to a new variable:\n",
    "temperature_far = temperature*9/5 + 32"
   ]
  },
  {
   "cell_type": "code",
   "execution_count": null,
   "metadata": {},
   "outputs": [],
   "source": [
    "# call the newly defined variable to check its assigned value:\n",
    "temperature_far "
   ]
  },
  {
   "cell_type": "markdown",
   "metadata": {},
   "source": [
    "Variable names can include numbers and special characters:"
   ]
  },
  {
   "cell_type": "code",
   "execution_count": null,
   "metadata": {},
   "outputs": [],
   "source": [
    "# assign a new variable\n",
    "açai20 = 20"
   ]
  },
  {
   "cell_type": "code",
   "execution_count": null,
   "metadata": {},
   "outputs": [],
   "source": [
    "# retrieve assigned value\n",
    "açai20"
   ]
  },
  {
   "cell_type": "markdown",
   "metadata": {},
   "source": [
    "But exact spelling matters, including capitalisation!"
   ]
  },
  {
   "cell_type": "code",
   "execution_count": null,
   "metadata": {},
   "outputs": [],
   "source": [
    "# correct spelling to retrieve assigned value\n",
    "Acai20"
   ]
  },
  {
   "cell_type": "markdown",
   "metadata": {},
   "source": [
    "# 3. Logic sequence\n",
    "Several lines of commands can be combined to an algorithm, a sequence of operations to obtain a desired result.\n",
    "\n",
    "When programming an algorithm it is important to observe the logic sequence of instructions (lines of code) and assignements (`=` operators). The computer will read and interpret the code by executing instructions strictly line by line from top to bottom, and make assignements on each line from right to left of the `=` sign.\n",
    "\n",
    "**Note that values assigned to variables can be overwritten by several consecutive assignments!**\n",
    "\n",
    "Follow the logic sequence of the short algorithm in the next code cell. Go through the instructions (line by line) and assignments (left to right) one by one. Can you tell what number is assigned to `b` at the end?"
   ]
  },
  {
   "cell_type": "code",
   "execution_count": null,
   "metadata": {},
   "outputs": [],
   "source": [
    "# short algorithm\n",
    "a = 1\n",
    "b = a\n",
    "b = a + b\n",
    "b = b**2"
   ]
  },
  {
   "cell_type": "markdown",
   "metadata": {},
   "source": [
    "Do you think you figured out the result? Let's see if you got it right:"
   ]
  },
  {
   "cell_type": "code",
   "execution_count": null,
   "metadata": {},
   "outputs": [],
   "source": [
    "# check value assigned to 'b' by algorithm above\n",
    "b"
   ]
  },
  {
   "cell_type": "markdown",
   "metadata": {},
   "source": [
    "# 3. Print output\n",
    "`Python` only prints output from your instructions if you enter them one line at the time (like we did in 'calculator mode' above). In a longer algorthm with several lines of instructions we need to tell `Python` specifically what output we wish to print out.\n",
    "\n",
    "To demonstrate how this works we first define two new variables containing strings of characters."
   ]
  },
  {
   "cell_type": "code",
   "execution_count": null,
   "metadata": {},
   "outputs": [],
   "source": [
    "# note that strings of characters must be entered between quotation marks, \n",
    "# otherwise they get interpreted as variable names\n",
    "city = 'Glasgow'\n",
    "season = 'summer'"
   ]
  },
  {
   "cell_type": "markdown",
   "metadata": {},
   "source": [
    "As we did a number of times above we can display the stored value by calling the variable name:"
   ]
  },
  {
   "cell_type": "code",
   "execution_count": null,
   "metadata": {},
   "outputs": [],
   "source": [
    "# retrieve assigned value\n",
    "city"
   ]
  },
  {
   "cell_type": "markdown",
   "metadata": {},
   "source": [
    "We can use the `print` command to do the same."
   ]
  },
  {
   "cell_type": "code",
   "execution_count": null,
   "metadata": {},
   "outputs": [],
   "source": [
    "# retrieve and print out assigned value\n",
    "print(city)"
   ]
  },
  {
   "cell_type": "code",
   "execution_count": null,
   "metadata": {},
   "outputs": [],
   "source": [
    "# in a Python notebook variables defined in previous cells above remain available\n",
    "print(temperature)"
   ]
  },
  {
   "cell_type": "markdown",
   "metadata": {},
   "source": [
    "We can use additional descriptions to enrich `print` statements. Once again, `Python` interprets anything between quotation marks as text (strings of characters) and any words without as variable names. Execute the following cells to see how this works:"
   ]
  },
  {
   "cell_type": "code",
   "execution_count": null,
   "metadata": {},
   "outputs": [],
   "source": [
    "# note you can use both 'single quotation marks'\n",
    "print('The temperature is', temperature)"
   ]
  },
  {
   "cell_type": "code",
   "execution_count": null,
   "metadata": {},
   "outputs": [],
   "source": [
    "# as well as \"double quotation marks\"\n",
    "print(\"The temperature in\", city,\"is\", temperature)"
   ]
  },
  {
   "cell_type": "code",
   "execution_count": null,
   "metadata": {},
   "outputs": [],
   "source": [
    "# print statements can combine as many bits of text and variable calls as you wish\n",
    "print(\"The temperature in\", city, \"rarely goes above\", temperature, \"Celsius even in\", season, \":-(\")"
   ]
  },
  {
   "cell_type": "markdown",
   "metadata": {},
   "source": [
    "# 4. Lists and indexing\n",
    "In most scientific contexts we don't only deal with one number at a time but with whole lists or tables of values.\n",
    "\n",
    "Any sequence of values including numbers and/or strings can be stored in a `Python list`. This is done by grouping the values between square brackets `[]`, separated by commas.\n",
    "\n",
    "Execute the cells below to see how it works."
   ]
  },
  {
   "cell_type": "code",
   "execution_count": null,
   "metadata": {},
   "outputs": [],
   "source": [
    "# assign a list of temperature values\n",
    "temperatures = [15, 24, 13, 32]"
   ]
  },
  {
   "cell_type": "code",
   "execution_count": null,
   "metadata": {},
   "outputs": [],
   "source": [
    "# retrieve all values stored in the list\n",
    "print(temperatures)"
   ]
  },
  {
   "cell_type": "markdown",
   "metadata": {},
   "source": [
    "If we wish to retrieve a specific value from a list we use what is called indexing. See the cell below for how that works:"
   ]
  },
  {
   "cell_type": "code",
   "execution_count": null,
   "metadata": {},
   "outputs": [],
   "source": [
    "# retrieve value number 3 from the list\n",
    "temperatures[3]"
   ]
  },
  {
   "cell_type": "markdown",
   "metadata": {},
   "source": [
    "Compare that result of the cell above with the list assignment one cell above. Which value did you retrieve?\n",
    "\n",
    "You may have expected that the value retrieved by index `[3]` is the third value in the list, but it turns out it was actually the fourth and last value that was called.\n",
    "\n",
    "This is because of the somewhat idiosyncratic way `Python` numbers entries in lists: **Python numbering always starts at zero!**"
   ]
  },
  {
   "cell_type": "code",
   "execution_count": null,
   "metadata": {},
   "outputs": [],
   "source": [
    "# The first entry in a list is stored under index number zero:\n",
    "print(\"The first temperature in the list is\",temperatures[0])"
   ]
  },
  {
   "cell_type": "markdown",
   "metadata": {},
   "source": [
    "Other than calling a single specific value from a list, we can also call a sequence of entries together. For this we use the `:` operator.\n",
    "\n",
    "Execute the following cells and compare to the original list assignment above to see how it works:"
   ]
  },
  {
   "cell_type": "code",
   "execution_count": null,
   "metadata": {},
   "outputs": [],
   "source": [
    "# call entries number one to three\n",
    "temperatures[1:3]"
   ]
  },
  {
   "cell_type": "code",
   "execution_count": null,
   "metadata": {},
   "outputs": [],
   "source": [
    "# call all entries from first to last\n",
    "temperatures[:]"
   ]
  },
  {
   "cell_type": "code",
   "execution_count": null,
   "metadata": {},
   "outputs": [],
   "source": [
    "# call all entries other than the first and last\n",
    "temperatures[1:-1]"
   ]
  },
  {
   "cell_type": "markdown",
   "metadata": {},
   "source": [
    "In the cell above you will have noticed the meaning of negative indices: they are counting back from the end of the list! This may seem weird at first but it turns out to be a very handy way of doing things in scientific programming. You will see examples of this in upcoming exercises.\n",
    "\n",
    "Note that a string (bit of text) in `Python` is essentially a list of characters. Recall that we assigned a variable above as `city = 'Glasgow'`. See what happens when we use indexing on this variable:"
   ]
  },
  {
   "cell_type": "code",
   "execution_count": null,
   "metadata": {},
   "outputs": [],
   "source": [
    "# use indexing to retrieve parts of a longer string variable\n",
    "city[1:-1]"
   ]
  },
  {
   "cell_type": "code",
   "execution_count": null,
   "metadata": {},
   "outputs": [],
   "source": [
    "# define a new list containing a string of characters\n",
    "location = 'University, Glasgow, Scotland'\n",
    "print(location)"
   ]
  },
  {
   "cell_type": "code",
   "execution_count": null,
   "metadata": {},
   "outputs": [],
   "source": [
    "# retrieve part of string\n",
    "city = location[11:19]\n",
    "print(city)"
   ]
  },
  {
   "cell_type": "code",
   "execution_count": null,
   "metadata": {},
   "outputs": [],
   "source": [
    "# you can split strings along specific characters\n",
    "location_info = location.split(',')\n",
    "\n",
    "# the result is now a list of strings, which of course is a list of lists of characters ;-)\n",
    "print(location_info)"
   ]
  },
  {
   "cell_type": "code",
   "execution_count": null,
   "metadata": {},
   "outputs": [],
   "source": [
    "# retrieve entry from a list of strings\n",
    "city = location_info[1]\n",
    "print(city)"
   ]
  },
  {
   "cell_type": "markdown",
   "metadata": {},
   "source": [
    "You can mix numbers and strings in a list, and you can even make lists of lists, or lists of lists of lists, etc.!"
   ]
  },
  {
   "cell_type": "code",
   "execution_count": null,
   "metadata": {},
   "outputs": [],
   "source": [
    "# define lists of lists containing strings and numbers\n",
    "city_temps = [['Glasgow',15],['Madrid',25],['Toronto',-5],['Sydney',30]]\n",
    "city_clims = [['Glasgow','maritime'],['Madrid','arid'],['Toronto','continental'],['Sydney','mediterrean']]\n",
    "\n",
    "# combine two lists into a new list\n",
    "city_infos = [city_temps,city_clims]\n",
    "\n",
    "# retrieve values from list of lists by double indexing\n",
    "print(city_infos[0][ 1])\n",
    "print(city_infos[1][-1])"
   ]
  },
  {
   "cell_type": "markdown",
   "metadata": {},
   "source": [
    "# 5. Commenting\n",
    "Instructions in an algorithm are often very condensed and variable names might not always be obviously descriptive.\n",
    "\n",
    "To ensure that others understand your code (and that yourself remember what you programmed yesterday!) always use comments to describe what is happening in every bit of code!\n",
    "\n",
    "Comments are bits of `Python` code following the `#` character. These are not interpreted as instructions but are simply explanatory text intended to clarify and document the code.\n",
    "\n",
    "Best practice is to set a comment header above every few lines of code to highlight the logic sequence of an algorithm and to add comments inline to clarify the instructions or variable assignments."
   ]
  },
  {
   "cell_type": "code",
   "execution_count": null,
   "metadata": {},
   "outputs": [],
   "source": [
    "# any line starting with a # is not read as instruction when a code is executed, \n",
    "# but is there to provide further context and explanation\n",
    "\n",
    "# assign temperature in Celsius and convert to Fahrenheit\n",
    "a = 15         # a is the temperature in Celsius\n",
    "b = a*9/5 +32  # b is the temperature in Fahrenheit"
   ]
  }
 ],
 "metadata": {
  "kernelspec": {
   "display_name": "Python 3",
   "language": "python",
   "name": "python3"
  },
  "language_info": {
   "codemirror_mode": {
    "name": "ipython",
    "version": 3
   },
   "file_extension": ".py",
   "mimetype": "text/x-python",
   "name": "python",
   "nbconvert_exporter": "python",
   "pygments_lexer": "ipython3",
   "version": "3.7.4"
  }
 },
 "nbformat": 4,
 "nbformat_minor": 2
}
