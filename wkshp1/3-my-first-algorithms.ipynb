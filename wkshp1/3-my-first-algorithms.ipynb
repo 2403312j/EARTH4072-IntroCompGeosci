{
 "cells": [
  {
   "cell_type": "markdown",
   "metadata": {},
   "source": [
    "# 1. For-loops\n",
    "Let's begin by defining a list of city names:"
   ]
  },
  {
   "cell_type": "code",
   "execution_count": null,
   "metadata": {},
   "outputs": [],
   "source": [
    "cities = ['São Paulo', 'New York', 'Tokyo', 'Paris', 'Glasgow']\n",
    "print(cities)"
   ]
  },
  {
   "cell_type": "markdown",
   "metadata": {},
   "source": [
    "___EXERCISE:___ Complete the code in the cell below to write some code that prints each city in the list `cities` to a separate line of output. Use the `print()` function to do so."
   ]
  },
  {
   "cell_type": "code",
   "execution_count": null,
   "metadata": {},
   "outputs": [],
   "source": [
    "# complete the code below to print out each city listed in cities\n",
    "print(cities[0])\n",
    "print(...)\n",
    "..."
   ]
  },
  {
   "cell_type": "markdown",
   "metadata": {},
   "source": [
    "This wasn't a hard, but an annoyingly repetitive task. \n",
    "\n",
    "Let's see what happens if we *condense the instructions* a little:\n",
    "\n",
    "    For each city in the list cities, print out the city name!\n",
    "\n",
    "    for each city in the list cities:\n",
    "        print the city name\n",
    "    \n",
    "    for each city in cities:\n",
    "        print city\n",
    "    \n",
    "    for city in cities:\n",
    "        print(city)\n",
    "\n",
    "What we have done here is to gradually move from a human-language to a computer code instruction. \n",
    "\n",
    "___EXERCISE:___ Type the last and shortest set of instructions from right above in the cell below and see what happens when you execute:"
   ]
  },
  {
   "cell_type": "code",
   "execution_count": null,
   "metadata": {},
   "outputs": [],
   "source": [
    "# Copy the final instruction from the cell above to line below\n"
   ]
  },
  {
   "cell_type": "markdown",
   "metadata": {},
   "source": [
    "The code above is a simple example of a **for-loop**. \n",
    "\n",
    "A for-loop is a set of instructions that is repeated a set number of times as defined by a counting variable (`city`) counting through the entries in a list (`cities`). \n",
    "\n",
    "For every count, or *iteration*, the sequence of instructions following the `for ... in ...:` statement is executed."
   ]
  },
  {
   "cell_type": "markdown",
   "metadata": {},
   "source": [
    "Try the same statement but without indenting the second line; what do you find?"
   ]
  },
  {
   "cell_type": "code",
   "execution_count": null,
   "metadata": {},
   "outputs": [],
   "source": [
    "# try to run the for-loop without indenting the instructions inside the loop\n",
    "for city in cities:\n",
    "print(city)"
   ]
  },
  {
   "cell_type": "markdown",
   "metadata": {},
   "source": [
    "___Indentation matters___ in Python code. It tells the computer what is *inside* the loop and therefore gets executed for every iteration of the loop, and what is *outside* the loop and only gets executed once the loop is done iterating.\n",
    "\n",
    "Execute the following cell to see how this works:"
   ]
  },
  {
   "cell_type": "code",
   "execution_count": null,
   "metadata": {},
   "outputs": [],
   "source": [
    "n = 0\n",
    "for city in cities:\n",
    "    print('The best city is:')\n",
    "    print(city)\n",
    "    print('but wait...')\n",
    "    n += 1\n",
    "print(\"...the loop is done after\",n,\"iterations.\")"
   ]
  },
  {
   "cell_type": "markdown",
   "metadata": {
    "collapsed": true
   },
   "source": [
    "Can you figure out what the instruction `n += 1` does in the cell above? \n",
    "\n",
    "Type \"Python +=\" into the search engine of your choice to find out. Generally, Python is very well documented online. You can find explanations and code examples for just about anything you can possibly do with Python online and usually available for free. This is the benefit of Python being an open-source programming language with a very broad and active user base. \n",
    "\n",
    "\n",
    "# 2. While-loops\n",
    "\n",
    "Sometimes we might not want to run the loop through all entries in a list, but instead iterate until a certain condition is met. For example..."
   ]
  },
  {
   "cell_type": "code",
   "execution_count": null,
   "metadata": {},
   "outputs": [],
   "source": [
    "stop = 5\n",
    "n    = 0\n",
    "\n",
    "while n < stop:\n",
    "    print(cities[n])\n",
    "    print('Check if loop should continue:', n < stop)\n",
    "    n += 1\n",
    "\n",
    "print(\"...the loop was stopped after\",n,\"iterations.\")"
   ]
  },
  {
   "cell_type": "markdown",
   "metadata": {},
   "source": [
    "___EXERCISE:___ In the cell below, complete the while-loop such that it goes through *all but the last* entry in `cities`. Compare to the code in the cell above to figure out how."
   ]
  },
  {
   "cell_type": "code",
   "execution_count": null,
   "metadata": {},
   "outputs": [],
   "source": [
    "n = 0\n",
    "\n",
    "while ... :\n",
    "    \n",
    "    print(cities[n],'is not as great as',cities[-1])\n",
    "    n += 1\n",
    "\n",
    "print(\"Right?\")"
   ]
  },
  {
   "cell_type": "markdown",
   "metadata": {},
   "source": [
    "# 3. If-Conditions\n",
    "\n",
    "The statement `n < stop` we used above is a so-called ___logic condition___. Logic conditions compare values in different ways and return either `True` or `False` as result. \n",
    "\n",
    "Execute the following code cells to see a few other examples for logic conditions:"
   ]
  },
  {
   "cell_type": "code",
   "execution_count": null,
   "metadata": {},
   "outputs": [],
   "source": [
    "a = 1\n",
    "b = 2\n",
    "a == b  # is a equal to b?"
   ]
  },
  {
   "cell_type": "code",
   "execution_count": null,
   "metadata": {},
   "outputs": [],
   "source": [
    "a != b  # is a not equal to b?"
   ]
  },
  {
   "cell_type": "code",
   "execution_count": null,
   "metadata": {},
   "outputs": [],
   "source": [
    "a <  b  # is a less than b?"
   ]
  },
  {
   "cell_type": "code",
   "execution_count": null,
   "metadata": {},
   "outputs": [],
   "source": [
    "a <= b  # is a less than or equal to b?"
   ]
  },
  {
   "cell_type": "code",
   "execution_count": null,
   "metadata": {},
   "outputs": [],
   "source": [
    "a >  b  # is a greater than b?"
   ]
  },
  {
   "cell_type": "code",
   "execution_count": null,
   "metadata": {},
   "outputs": [],
   "source": [
    "a >= b # is a greater than or equal b?"
   ]
  },
  {
   "cell_type": "markdown",
   "metadata": {},
   "source": [
    "We can combine several logic conditions and require that both of them are true (`and`) or that either of them is true (`or`).\n",
    "\n",
    "Execute the following code cells to see how it works:"
   ]
  },
  {
   "cell_type": "code",
   "execution_count": null,
   "metadata": {},
   "outputs": [],
   "source": [
    "True and False"
   ]
  },
  {
   "cell_type": "code",
   "execution_count": null,
   "metadata": {},
   "outputs": [],
   "source": [
    "True or False"
   ]
  },
  {
   "cell_type": "code",
   "execution_count": null,
   "metadata": {},
   "outputs": [],
   "source": [
    "(a < b) and (a == b)"
   ]
  },
  {
   "cell_type": "code",
   "execution_count": null,
   "metadata": {},
   "outputs": [],
   "source": [
    "(a < b) or (a == b)"
   ]
  },
  {
   "cell_type": "markdown",
   "metadata": {},
   "source": [
    "When programming an algorithm we often face the situation that we want to execute a command, but only if a certain condition is met.\n",
    "\n",
    "For such purposes we can use logic conditions to tell the computer if it should execute an instruction or not.\n",
    "\n",
    "Read and execute the following code cell to understand how this works. Note the key words `if`, `elif` (else if), and `else`. Can you figure out exactly what they mean?"
   ]
  },
  {
   "cell_type": "code",
   "execution_count": null,
   "metadata": {},
   "outputs": [],
   "source": [
    "temperatures = [-10., -1., 6., 16., 22.]\n",
    "\n",
    "for temp in temperatures:\n",
    "    if temp < 0:\n",
    "        print(\"The temperature is\",temp,\": it's bloody freezing!\")\n",
    "    elif (temp >= 0 and temp < 10):\n",
    "        print(\"The temperature is\",temp,\": it's a mild day in Glasgow!\")\n",
    "    elif (temp >= 10 and temp < 20):\n",
    "        print(\"The temperature is\",temp,\": it's positively subtropical!\")\n",
    "    else:\n",
    "        print(\"The temperature is\",temp,\": it's a fricking heat wave!\")\n",
    "        "
   ]
  },
  {
   "cell_type": "markdown",
   "metadata": {},
   "source": [
    "You can find some more detailed information and useful examples of logic conditions [under this link](https://www.w3schools.com/python/python_conditions.asp)!"
   ]
  },
  {
   "cell_type": "markdown",
   "metadata": {},
   "source": [
    "# 4. Functions\n",
    "\n",
    "The following bit of code calculates the mean of temperatures in the list from above. It does so by adding all values to get their total sum `s` before dividing the sum by the number of entries `n`."
   ]
  },
  {
   "cell_type": "code",
   "execution_count": null,
   "metadata": {},
   "outputs": [],
   "source": [
    "#calculate the mean of values in temparatures list\n",
    "s = 0\n",
    "n = 0\n",
    "for temp in temperatures:\n",
    "    s += temp\n",
    "    n += 1\n",
    "print(s/n)"
   ]
  },
  {
   "cell_type": "markdown",
   "metadata": {},
   "source": [
    "Calculating a mean of a data set is something we might want to do repeatedly during a data analysis project. \n",
    "\n",
    "Rather than typing out the same sequence of instructions again and again, we can take a short-cut by defining a function. The cell below gives an example of how a function is written in Python."
   ]
  },
  {
   "cell_type": "code",
   "execution_count": null,
   "metadata": {},
   "outputs": [],
   "source": [
    "# define a function that calculates mean value for any list\n",
    "def mean(inputlist):\n",
    "    \n",
    "    s = 0\n",
    "    n = 0\n",
    "    for value in inputlist:\n",
    "        s += value\n",
    "        n += 1\n",
    "    mean = s/n\n",
    "    \n",
    "    return mean"
   ]
  },
  {
   "cell_type": "markdown",
   "metadata": {},
   "source": [
    "A function always starts with `def` followed by the function name of your choice, and a comma-separated list of input arguments. Functions must end with `return` followed by a comma-separated list of output parameters that pass the result back once the function is done.\n",
    "\n",
    "To use a function you can call it by typing the function name followed by the input arguments in round brackets:"
   ]
  },
  {
   "cell_type": "code",
   "execution_count": null,
   "metadata": {},
   "outputs": [],
   "source": [
    "# call function mean() to get mean of temperatures\n",
    "mean_temp = mean(temperatures)\n",
    "print(mean_temp)"
   ]
  },
  {
   "cell_type": "markdown",
   "metadata": {},
   "source": [
    "The same as variables, function calls can be used directly in any instruction:"
   ]
  },
  {
   "cell_type": "code",
   "execution_count": null,
   "metadata": {},
   "outputs": [],
   "source": [
    "# loop through temperatures and find their deviation from the mean\n",
    "for temp in temperatures:\n",
    "    temp_dev = temp - mean(temperatures)\n",
    "    print(temp_dev)"
   ]
  },
  {
   "cell_type": "markdown",
   "metadata": {},
   "source": [
    "___EXERCISE:___ In the cell below, write a function that identifies the minimum and maximum values of a list of numbers that is passed to it as argument. This exercise will require you to combine what you learned about functions, loops, and conditions."
   ]
  },
  {
   "cell_type": "code",
   "execution_count": null,
   "metadata": {},
   "outputs": [],
   "source": [
    "# function to determine min and max values in a list\n",
    "def min_max(inputlist):\n",
    "\n",
    "    # complete this function to calculate and return both the minimum and maximum value in the input list\n",
    "    \n",
    "    # basic recipe for the algorithm:\n",
    "    # 1) loop through all values in the list\n",
    "    # 2) compare each value to the previous one \n",
    "    # 3) if it is smaller than previous one, assign it to minvalue\n",
    "    # 4) if it is larger than previous one, assign it to maxvalue\n",
    "    \n",
    "    return minvalue, maxvalue"
   ]
  },
  {
   "cell_type": "code",
   "execution_count": null,
   "metadata": {},
   "outputs": [],
   "source": [
    "# now use the min_max() function on the temperatures list from above\n",
    "# the correct results should be mintemp = -10, maxtemp = 22\n",
    "mintemp, maxtemp = min_max(temperatures)"
   ]
  },
  {
   "cell_type": "code",
   "execution_count": null,
   "metadata": {},
   "outputs": [],
   "source": []
  }
 ],
 "metadata": {
  "kernelspec": {
   "display_name": "Python 3",
   "language": "python",
   "name": "python3"
  },
  "language_info": {
   "codemirror_mode": {
    "name": "ipython",
    "version": 3
   },
   "file_extension": ".py",
   "mimetype": "text/x-python",
   "name": "python",
   "nbconvert_exporter": "python",
   "pygments_lexer": "ipython3",
   "version": "3.7.4"
  }
 },
 "nbformat": 4,
 "nbformat_minor": 2
}
