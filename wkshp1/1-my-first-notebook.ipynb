{
 "cells": [
  {
   "cell_type": "markdown",
   "metadata": {},
   "source": [
    "                     # A Jupyter notebook\n",
    "\n",
    "This is my **first notebook** for the \n",
    "*day*, if my \n",
    "computer is collaborating ;-)\n",
    "\n",
    "\n",
    "=> Double-click this text to see and edit the ___Markdown code___ used to program this text display.\n",
    "\n",
    "\n",
    "=> Click shift+enter to execute the code and produce the displayed text.\n",
    "|\n",
    "   \n",
    "\n",
    "\n",
    "Here's how to create a bullet point list:\n",
    "\n",
    "* first\n",
    "* second\n",
    "* third\n",
    "\n",
    "\n",
    "\n",
    "Here's how to create a numbered list:\n",
    "\n",
    "1. something\n",
    "2. or\n",
    "3. other\n",
    "\n",
    "You can insert an image from the internet...\n",
    "\n",
    "![An image from the internet](https://www.gla.ac.uk/media/Media_681972_smxx.jpg)\n",
    "\n",
    "... and add weblinks, here for example the\n",
    "[source of the image](https://www.gla.ac.uk/media/Media_681972_smxx.jpg)"
   ]
  },
  {
   "cell_type": "markdown",
   "metadata": {
    "collapsed": true
   },
   "source": [
    "# 1. I think\n",
    "## 1.1 I'm slowly getting\n",
    "### 1.1.1 The hang of this!\n",
    "\n",
    "=> Double-click this text to see how to set different levels of section titles.\n",
    "\n",
    "Here's a [useful link to a cheatsheet of Markdown code](https://github.com/adam-p/markdown-here/wiki/Markdown-Cheatsheet) to produce formatted text!\n",
    "\n",
    "The next cell is a `code cell` that contains `Python code`. Execute the code in the cell below by selecting the cell (simply click on it) and the hitting shift+enter."
   ]
  },
  {
   "cell_type": "code",
   "execution_count": null,
   "metadata": {},
   "outputs": [],
   "source": [
    "a = 1\n",
    "b = 2\n",
    "c = a + b\n",
    "print(c)"
   ]
  },
  {
   "cell_type": "markdown",
   "metadata": {},
   "source": [
    "This code calculates the result of $$c = a+b$$ for $a=1$ and $b=2$. The dollar symbols mark text that will be typeset as math.\n",
    "\n",
    "# Your Task\n",
    "* Add one new text box below. Use the \"+\" button and select \"Markdown\" from the drop-down menu, both found in the menu bar at the top of the notebook.\n",
    "* Set a title reading \"Introduction to Computational Geosciences\". \n",
    "* Write a sentence or two about what you're hoping to learn this week. \n",
    "* Find an image on the internet that shows an example of what comes to your mind when you think about computational methods in Geosciences and link it into the text cell alongside a link to the source of the image. You can see how that is done in the text cell at the top of this notebook.\n",
    "* Add a code cell by using the \"+\" button and selecting \"Code\" from the drop-down menu at the top.\n",
    "* Copy and paste the bit of code from the cell above into the new cell. Change the code such that it calculates a variable `d` which is the difference between variables `a` and `a` and then `print` the result.\n",
    "* When you're done, screen-shot your work and upload it to Padlet."
   ]
  }
 ],
 "metadata": {
  "kernelspec": {
   "display_name": "Python 3",
   "language": "python",
   "name": "python3"
  },
  "language_info": {
   "codemirror_mode": {
    "name": "ipython",
    "version": 3
   },
   "file_extension": ".py",
   "mimetype": "text/x-python",
   "name": "python",
   "nbconvert_exporter": "python",
   "pygments_lexer": "ipython3",
   "version": "3.7.4"
  }
 },
 "nbformat": 4,
 "nbformat_minor": 2
}
